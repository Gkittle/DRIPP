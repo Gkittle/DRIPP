{
 "cells": [
  {
   "cell_type": "code",
   "execution_count": 1,
   "metadata": {},
   "outputs": [],
   "source": [
    "#!/usr/bin/env python3\n",
    "# -*- coding: utf-8 -*-\n",
    "\"\"\"\n",
    "Main script. \n",
    "The following script runs a quick demo optimization for one seed and few function \n",
    "iterations. This is not intended to reproduce the results of the paper, but \n",
    "simply to demonstrate the methods. \n",
    "The optimization parameters used in the full-scale experiments of the \n",
    "paper are included in this script and can be run upon changing the binary condition in \n",
    "line 113. \n",
    "\n",
    "\"\"\"\n",
    "\n",
    "\n",
    "import sys\n",
    "sys.path.append('src')\n",
    "sys.path.append('ptreeopt')\n",
    "from src import SB, SBsim\n",
    "from src import *\n",
    "from ptreeopt import PTreeOpt, MultiprocessingExecutor\n",
    "import logging\n",
    "import csv\n",
    "import pickle\n",
    "import matplotlib.pyplot as plt\n",
    "import numpy as np\n",
    "import pandas as pd\n",
    "import argparse"
   ]
  },
  {
   "cell_type": "code",
   "execution_count": 2,
   "metadata": {},
   "outputs": [],
   "source": [
    "# set optimization parameters\n",
    "class OptimizationParameters(object):\n",
    "    def __init__(self):\n",
    "        self.cores    = 36 # this value is used only in the full scale optimization\n",
    "        self.nseeds   = 1\n",
    "        self.nobjs    = 1\n",
    "        self.drought_type = [87, 0.83, 2] # set drought type here\n",
    "\n",
    "#create Result class\n",
    "class Result():\n",
    "    pass\n",
    "\n",
    "#initialize action table\n",
    "action = []\n",
    "capacity = []\n",
    "om = []\n",
    "cx = []\n",
    "param = []\n",
    "lifetime = []\n",
    "t_depl = []\n",
    "action_type = []"
   ]
  },
  {
   "cell_type": "code",
   "execution_count": 3,
   "metadata": {},
   "outputs": [
    {
     "data": {
      "text/html": [
       "<div>\n",
       "<style scoped>\n",
       "    .dataframe tbody tr th:only-of-type {\n",
       "        vertical-align: middle;\n",
       "    }\n",
       "\n",
       "    .dataframe tbody tr th {\n",
       "        vertical-align: top;\n",
       "    }\n",
       "\n",
       "    .dataframe thead th {\n",
       "        text-align: right;\n",
       "    }\n",
       "</style>\n",
       "<table border=\"1\" class=\"dataframe\">\n",
       "  <thead>\n",
       "    <tr style=\"text-align: right;\">\n",
       "      <th></th>\n",
       "      <th>action</th>\n",
       "      <th>capacity</th>\n",
       "      <th>om</th>\n",
       "      <th>cx</th>\n",
       "      <th>t_depl</th>\n",
       "      <th>lifetime</th>\n",
       "      <th>action_type</th>\n",
       "    </tr>\n",
       "  </thead>\n",
       "  <tbody>\n",
       "    <tr>\n",
       "      <th>0</th>\n",
       "      <td>nothing</td>\n",
       "      <td>0</td>\n",
       "      <td>0.00000</td>\n",
       "      <td>0.00000</td>\n",
       "      <td>1</td>\n",
       "      <td>1</td>\n",
       "      <td>0</td>\n",
       "    </tr>\n",
       "    <tr>\n",
       "      <th>1</th>\n",
       "      <td>SW200</td>\n",
       "      <td>200</td>\n",
       "      <td>1.86547</td>\n",
       "      <td>29.15983</td>\n",
       "      <td>120</td>\n",
       "      <td>40</td>\n",
       "      <td>0</td>\n",
       "    </tr>\n",
       "    <tr>\n",
       "      <th>2</th>\n",
       "      <td>SW300</td>\n",
       "      <td>300</td>\n",
       "      <td>2.59251</td>\n",
       "      <td>36.26095</td>\n",
       "      <td>120</td>\n",
       "      <td>40</td>\n",
       "      <td>0</td>\n",
       "    </tr>\n",
       "    <tr>\n",
       "      <th>3</th>\n",
       "      <td>SW400</td>\n",
       "      <td>400</td>\n",
       "      <td>3.30036</td>\n",
       "      <td>42.68769</td>\n",
       "      <td>120</td>\n",
       "      <td>40</td>\n",
       "      <td>0</td>\n",
       "    </tr>\n",
       "    <tr>\n",
       "      <th>4</th>\n",
       "      <td>SW500</td>\n",
       "      <td>500</td>\n",
       "      <td>3.99490</td>\n",
       "      <td>48.70583</td>\n",
       "      <td>120</td>\n",
       "      <td>40</td>\n",
       "      <td>0</td>\n",
       "    </tr>\n",
       "  </tbody>\n",
       "</table>\n",
       "</div>"
      ],
      "text/plain": [
       "    action  capacity       om        cx  t_depl  lifetime  action_type\n",
       "0  nothing         0  0.00000   0.00000       1         1            0\n",
       "1    SW200       200  1.86547  29.15983     120        40            0\n",
       "2    SW300       300  2.59251  36.26095     120        40            0\n",
       "3    SW400       400  3.30036  42.68769     120        40            0\n",
       "4    SW500       500  3.99490  48.70583     120        40            0"
      ]
     },
     "execution_count": 3,
     "metadata": {},
     "output_type": "execute_result"
    }
   ],
   "source": [
    "df_actions_table = pd.read_csv(\"data/actions_table.csv\")\n",
    "df_actions_table.head()"
   ]
  },
  {
   "cell_type": "code",
   "execution_count": 4,
   "metadata": {},
   "outputs": [],
   "source": [
    "action = df_actions_table['action'].values\n",
    "capacity = df_actions_table['capacity'].values\n",
    "om = df_actions_table['om'].values\n",
    "cx = df_actions_table['cx'].values\n",
    "t_depl = df_actions_table['t_depl'].values\n",
    "lifetime = df_actions_table['lifetime'].values\n",
    "action_type = [int(val) for val in df_actions_table['action_type'].values]"
   ]
  },
  {
   "cell_type": "code",
   "execution_count": 5,
   "metadata": {},
   "outputs": [],
   "source": [
    "#categorizing each action name by action type into an array indexed by action type\n",
    "action_name = [[], [], [], [], []]\n",
    "i = 0\n",
    "for act in action:\n",
    "        action_name[action_type[i]].extend( [act] )\n",
    "        i += 1"
   ]
  },
  {
   "cell_type": "code",
   "execution_count": 6,
   "metadata": {},
   "outputs": [],
   "source": [
    "opt_par = OptimizationParameters()"
   ]
  },
  {
   "cell_type": "code",
   "execution_count": 7,
   "metadata": {},
   "outputs": [],
   "source": [
    "# define parameters for model and algorithm \n",
    "model = SB(opt_par, action_name, capacity, om, cx, t_depl, lifetime) \n",
    "algorithm = PTreeOpt(model.simulate,\n",
    "                     feature_bounds=[[0, 35000],\n",
    "                                     [-3, 3], [-3, 3],\n",
    "                                     [0, 12100],[0, 12100],[0, 12100],\n",
    "                                     [-20000, 20000],[-20000, 20000],[-20000, 20000],\n",
    "                                     [0,800], [0, 800], [0, 25] ],\n",
    "\n",
    "                     feature_names=['Surface Storage',\n",
    "                                    'SRI 1y', 'SRI 3y',\n",
    "                                    'allocation 1y','allocation 3y','allocation 5y',\n",
    "                                    'delta storage 1y','delta storage 3y','delta storage 5y',\n",
    "                                    'installed capacity', 'capacity under construction', 'curtailment'],\n",
    "\n",
    "                     discrete_actions=True,\n",
    "                     action_names=action_name,\n",
    "                     mu=10, \n",
    "                     cx_prob=0.70,\n",
    "                     population_size=100, #set this parameter to 100 for full scale optimization and 10 for limited optimization \n",
    "                     max_depth=3,\n",
    "                     multiobj=False,\n",
    "                     )"
   ]
  },
  {
   "cell_type": "code",
   "execution_count": 8,
   "metadata": {},
   "outputs": [
    {
     "name": "stderr",
     "output_type": "stream",
     "text": [
      "usage: ipykernel_launcher.py [-h] process\n",
      "ipykernel_launcher.py: error: the following arguments are required: process\n"
     ]
    },
    {
     "ename": "SystemExit",
     "evalue": "2",
     "output_type": "error",
     "traceback": [
      "An exception has occurred, use %tb to see the full traceback.\n",
      "\u001b[0;31mSystemExit\u001b[0m\u001b[0;31m:\u001b[0m 2\n"
     ]
    },
    {
     "name": "stderr",
     "output_type": "stream",
     "text": [
      "/home/gkittles/miniconda3/envs/DRIPP_env/lib/python3.13/site-packages/IPython/core/interactiveshell.py:3585: UserWarning: To exit: use 'exit', 'quit', or Ctrl-D.\n",
      "  warn(\"To exit: use 'exit', 'quit', or Ctrl-D.\", stacklevel=1)\n"
     ]
    }
   ],
   "source": [
    "if __name__ == '__main__':\n",
    "    \n",
    "    seed = 1 # initializing random seed\n",
    "    \n",
    "##### uncomment the following for random seed initialization on computing cluster #####\n",
    "    parser = argparse.ArgumentParser()\n",
    "    parser.add_argument(\"process\", help=\"seed number\")\n",
    "    args = parser.parse_args()\n",
    "    seed = int(args.process)\n",
    "    np.random.rand(seed)\n",
    "\n",
    "\n",
    "    logging.basicConfig(level=logging.INFO,\n",
    "        format='[%(processName)s/%(levelname)s:%(filename)s:%(funcName)s] %(message)s')\n",
    "\n",
    "    opt_par = OptimizationParameters()\n",
    "\n",
    "\n",
    "##### set following condition to 1 for full scale optimization on computing cluster\n",
    "    if 1:\n",
    "        with MultiprocessingExecutor(processes=opt_par.cores) as executor:\n",
    "            best_solution, best_score, snapshots = algorithm.run(max_nfe=300000,\n",
    "                                                         log_frequency=100,\n",
    "                                                         snapshot_frequency=100,\n",
    "                                                         executor=executor,\n",
    "                                                         drought_type = opt_par.drought_type,\n",
    "                                                         seed = seed)\n",
    "    else:\n",
    "        best_solution, best_score, snapshots = algorithm.run(max_nfe=20, #parameters for short optimization\n",
    "                                                         log_frequency=10,\n",
    "                                                         snapshot_frequency=10,\n",
    "                                                         drought_type = opt_par.drought_type)\n",
    "\n",
    "\n",
    "    result = Result()\n",
    "    result.best_solution = best_solution\n",
    "    result.best_score = best_score\n",
    "    result.snapshots = snapshots\n",
    "    result.model = model\n",
    "    string = 'results/test_results' + str(opt_par.drought_type[0]) + '_' + str(opt_par.drought_type[1]) + '_' + str(seed) +'.dat'\n",
    "\n",
    "    with open(string, 'wb') as f: \n",
    "        pickle.dump(result, f)\n",
    "        \n",
    "        \n",
    "####### simulate best_result to visualize some trajectories\n",
    "    model_sim = SBsim(opt_par, action_name, capacity, om, cx, t_depl, lifetime) \n",
    "    log = model_sim.simulate(best_solution, 0)\n",
    "    \n",
    "####### some demo plots\n",
    "    #plt.style.use('seaborn-darkgrid')\n",
    "\n",
    "    fig, axs = plt.subplots(3)\n",
    "    fig.suptitle('For demo purpose only \\n These results are not converged')\n",
    "    \n",
    "    axs[0].fill_between(range(1200), log.sri36, where = (np.array(log.sri36)>0), color = '#73A5C6') \n",
    "    axs[0].set_ylabel('SRI [-]')\n",
    "    axs[0].fill_between(range(1200), log.sri36, where = (np.array(log.sri36)<0), color = '#ff0000' )\n",
    "    \n",
    "    axs[1].fill_between(range(1200), log.capacity, color = '#FF6600' )\n",
    "    axs[1].set_ylabel('Capacity \\n [AF/month]')\n",
    "    \n",
    "    axs[2].fill_between(range(1200), log.sc, color = '#00316E' )\n",
    "    axs[2].set_xlabel('Time [months]')\n",
    "    axs[2].set_ylabel('Storage [AF]')\n",
    "\n",
    "    fig.savefig(\"plot_example.png\")"
   ]
  },
  {
   "cell_type": "code",
   "execution_count": 9,
   "metadata": {},
   "outputs": [
    {
     "ename": "SystemExit",
     "evalue": "2",
     "output_type": "error",
     "traceback": [
      "\u001b[0;31m---------------------------------------------------------------------------\u001b[0m",
      "\u001b[0;31mArgumentError\u001b[0m                             Traceback (most recent call last)",
      "File \u001b[0;32m~/miniconda3/envs/DRIPP_env/lib/python3.13/argparse.py:1916\u001b[0m, in \u001b[0;36mArgumentParser.parse_known_args\u001b[0;34m(self, args, namespace)\u001b[0m\n\u001b[1;32m   1915\u001b[0m \u001b[38;5;28;01mtry\u001b[39;00m:\n\u001b[0;32m-> 1916\u001b[0m     namespace, args \u001b[38;5;241m=\u001b[39m \u001b[38;5;28;43mself\u001b[39;49m\u001b[38;5;241;43m.\u001b[39;49m\u001b[43m_parse_known_args\u001b[49m\u001b[43m(\u001b[49m\u001b[43margs\u001b[49m\u001b[43m,\u001b[49m\u001b[43m \u001b[49m\u001b[43mnamespace\u001b[49m\u001b[43m)\u001b[49m\n\u001b[1;32m   1917\u001b[0m \u001b[38;5;28;01mexcept\u001b[39;00m ArgumentError \u001b[38;5;28;01mas\u001b[39;00m err:\n",
      "File \u001b[0;32m~/miniconda3/envs/DRIPP_env/lib/python3.13/argparse.py:2175\u001b[0m, in \u001b[0;36mArgumentParser._parse_known_args\u001b[0;34m(self, arg_strings, namespace)\u001b[0m\n\u001b[1;32m   2174\u001b[0m \u001b[38;5;28;01mif\u001b[39;00m required_actions:\n\u001b[0;32m-> 2175\u001b[0m     \u001b[38;5;28;01mraise\u001b[39;00m ArgumentError(\u001b[38;5;28;01mNone\u001b[39;00m, _(\u001b[38;5;124m'\u001b[39m\u001b[38;5;124mthe following arguments are required: \u001b[39m\u001b[38;5;132;01m%s\u001b[39;00m\u001b[38;5;124m'\u001b[39m) \u001b[38;5;241m%\u001b[39m\n\u001b[1;32m   2176\u001b[0m                \u001b[38;5;124m'\u001b[39m\u001b[38;5;124m, \u001b[39m\u001b[38;5;124m'\u001b[39m\u001b[38;5;241m.\u001b[39mjoin(required_actions))\n\u001b[1;32m   2178\u001b[0m \u001b[38;5;66;03m# make sure all required groups had one option present\u001b[39;00m\n",
      "\u001b[0;31mArgumentError\u001b[0m: the following arguments are required: process",
      "\nDuring handling of the above exception, another exception occurred:\n",
      "\u001b[0;31mSystemExit\u001b[0m                                Traceback (most recent call last)",
      "Cell \u001b[0;32mIn[8], line 8\u001b[0m\n\u001b[1;32m      6\u001b[0m parser \u001b[38;5;241m=\u001b[39m argparse\u001b[38;5;241m.\u001b[39mArgumentParser()\n\u001b[1;32m      7\u001b[0m parser\u001b[38;5;241m.\u001b[39madd_argument(\u001b[38;5;124m\"\u001b[39m\u001b[38;5;124mprocess\u001b[39m\u001b[38;5;124m\"\u001b[39m, help\u001b[38;5;241m=\u001b[39m\u001b[38;5;124m\"\u001b[39m\u001b[38;5;124mseed number\u001b[39m\u001b[38;5;124m\"\u001b[39m)\n\u001b[0;32m----> 8\u001b[0m args \u001b[38;5;241m=\u001b[39m \u001b[43mparser\u001b[49m\u001b[38;5;241;43m.\u001b[39;49m\u001b[43mparse_args\u001b[49m\u001b[43m(\u001b[49m\u001b[43m)\u001b[49m\n\u001b[1;32m      9\u001b[0m seed \u001b[38;5;241m=\u001b[39m \u001b[38;5;28mint\u001b[39m(args\u001b[38;5;241m.\u001b[39mprocess)\n\u001b[1;32m     10\u001b[0m np\u001b[38;5;241m.\u001b[39mrandom\u001b[38;5;241m.\u001b[39mrand(seed)\n",
      "File \u001b[0;32m~/miniconda3/envs/DRIPP_env/lib/python3.13/argparse.py:1880\u001b[0m, in \u001b[0;36mArgumentParser.parse_args\u001b[0;34m(self, args, namespace)\u001b[0m\n\u001b[1;32m   1879\u001b[0m \u001b[38;5;28;01mdef\u001b[39;00m \u001b[38;5;21mparse_args\u001b[39m(\u001b[38;5;28mself\u001b[39m, args\u001b[38;5;241m=\u001b[39m\u001b[38;5;28;01mNone\u001b[39;00m, namespace\u001b[38;5;241m=\u001b[39m\u001b[38;5;28;01mNone\u001b[39;00m):\n\u001b[0;32m-> 1880\u001b[0m     args, argv \u001b[38;5;241m=\u001b[39m \u001b[38;5;28;43mself\u001b[39;49m\u001b[38;5;241;43m.\u001b[39;49m\u001b[43mparse_known_args\u001b[49m\u001b[43m(\u001b[49m\u001b[43margs\u001b[49m\u001b[43m,\u001b[49m\u001b[43m \u001b[49m\u001b[43mnamespace\u001b[49m\u001b[43m)\u001b[49m\n\u001b[1;32m   1881\u001b[0m     \u001b[38;5;28;01mif\u001b[39;00m argv:\n\u001b[1;32m   1882\u001b[0m         msg \u001b[38;5;241m=\u001b[39m _(\u001b[38;5;124m'\u001b[39m\u001b[38;5;124munrecognized arguments: \u001b[39m\u001b[38;5;132;01m%s\u001b[39;00m\u001b[38;5;124m'\u001b[39m) \u001b[38;5;241m%\u001b[39m \u001b[38;5;124m'\u001b[39m\u001b[38;5;124m \u001b[39m\u001b[38;5;124m'\u001b[39m\u001b[38;5;241m.\u001b[39mjoin(argv)\n",
      "File \u001b[0;32m~/miniconda3/envs/DRIPP_env/lib/python3.13/argparse.py:1918\u001b[0m, in \u001b[0;36mArgumentParser.parse_known_args\u001b[0;34m(self, args, namespace)\u001b[0m\n\u001b[1;32m   1916\u001b[0m         namespace, args \u001b[38;5;241m=\u001b[39m \u001b[38;5;28mself\u001b[39m\u001b[38;5;241m.\u001b[39m_parse_known_args(args, namespace)\n\u001b[1;32m   1917\u001b[0m     \u001b[38;5;28;01mexcept\u001b[39;00m ArgumentError \u001b[38;5;28;01mas\u001b[39;00m err:\n\u001b[0;32m-> 1918\u001b[0m         \u001b[38;5;28;43mself\u001b[39;49m\u001b[38;5;241;43m.\u001b[39;49m\u001b[43merror\u001b[49m\u001b[43m(\u001b[49m\u001b[38;5;28;43mstr\u001b[39;49m\u001b[43m(\u001b[49m\u001b[43merr\u001b[49m\u001b[43m)\u001b[49m\u001b[43m)\u001b[49m\n\u001b[1;32m   1919\u001b[0m \u001b[38;5;28;01melse\u001b[39;00m:\n\u001b[1;32m   1920\u001b[0m     namespace, args \u001b[38;5;241m=\u001b[39m \u001b[38;5;28mself\u001b[39m\u001b[38;5;241m.\u001b[39m_parse_known_args(args, namespace)\n",
      "File \u001b[0;32m~/miniconda3/envs/DRIPP_env/lib/python3.13/argparse.py:2665\u001b[0m, in \u001b[0;36mArgumentParser.error\u001b[0;34m(self, message)\u001b[0m\n\u001b[1;32m   2663\u001b[0m \u001b[38;5;28mself\u001b[39m\u001b[38;5;241m.\u001b[39mprint_usage(_sys\u001b[38;5;241m.\u001b[39mstderr)\n\u001b[1;32m   2664\u001b[0m args \u001b[38;5;241m=\u001b[39m {\u001b[38;5;124m'\u001b[39m\u001b[38;5;124mprog\u001b[39m\u001b[38;5;124m'\u001b[39m: \u001b[38;5;28mself\u001b[39m\u001b[38;5;241m.\u001b[39mprog, \u001b[38;5;124m'\u001b[39m\u001b[38;5;124mmessage\u001b[39m\u001b[38;5;124m'\u001b[39m: message}\n\u001b[0;32m-> 2665\u001b[0m \u001b[38;5;28;43mself\u001b[39;49m\u001b[38;5;241;43m.\u001b[39;49m\u001b[43mexit\u001b[49m\u001b[43m(\u001b[49m\u001b[38;5;241;43m2\u001b[39;49m\u001b[43m,\u001b[49m\u001b[43m \u001b[49m\u001b[43m_\u001b[49m\u001b[43m(\u001b[49m\u001b[38;5;124;43m'\u001b[39;49m\u001b[38;5;132;43;01m%(prog)s\u001b[39;49;00m\u001b[38;5;124;43m: error: \u001b[39;49m\u001b[38;5;132;43;01m%(message)s\u001b[39;49;00m\u001b[38;5;130;43;01m\\n\u001b[39;49;00m\u001b[38;5;124;43m'\u001b[39;49m\u001b[43m)\u001b[49m\u001b[43m \u001b[49m\u001b[38;5;241;43m%\u001b[39;49m\u001b[43m \u001b[49m\u001b[43margs\u001b[49m\u001b[43m)\u001b[49m\n",
      "File \u001b[0;32m~/miniconda3/envs/DRIPP_env/lib/python3.13/argparse.py:2652\u001b[0m, in \u001b[0;36mArgumentParser.exit\u001b[0;34m(self, status, message)\u001b[0m\n\u001b[1;32m   2650\u001b[0m \u001b[38;5;28;01mif\u001b[39;00m message:\n\u001b[1;32m   2651\u001b[0m     \u001b[38;5;28mself\u001b[39m\u001b[38;5;241m.\u001b[39m_print_message(message, _sys\u001b[38;5;241m.\u001b[39mstderr)\n\u001b[0;32m-> 2652\u001b[0m \u001b[43m_sys\u001b[49m\u001b[38;5;241;43m.\u001b[39;49m\u001b[43mexit\u001b[49m\u001b[43m(\u001b[49m\u001b[43mstatus\u001b[49m\u001b[43m)\u001b[49m\n",
      "\u001b[0;31mSystemExit\u001b[0m: 2"
     ]
    }
   ],
   "source": [
    "%tb"
   ]
  },
  {
   "cell_type": "code",
   "execution_count": 3,
   "metadata": {},
   "outputs": [
    {
     "ename": "AttributeError",
     "evalue": "Can't get attribute 'Result' on <module '__main__'>",
     "output_type": "error",
     "traceback": [
      "\u001b[0;31m---------------------------------------------------------------------------\u001b[0m",
      "\u001b[0;31mAttributeError\u001b[0m                            Traceback (most recent call last)",
      "Cell \u001b[0;32mIn[3], line 5\u001b[0m\n\u001b[1;32m      3\u001b[0m \u001b[38;5;28;01mwhile\u001b[39;00m \u001b[38;5;28;01mTrue\u001b[39;00m:\n\u001b[1;32m      4\u001b[0m     \u001b[38;5;28;01mtry\u001b[39;00m:\n\u001b[0;32m----> 5\u001b[0m         objects\u001b[38;5;241m.\u001b[39mappend(\u001b[43mpickle\u001b[49m\u001b[38;5;241;43m.\u001b[39;49m\u001b[43mload\u001b[49m\u001b[43m(\u001b[49m\u001b[43mopenfile\u001b[49m\u001b[43m)\u001b[49m)\n\u001b[1;32m      6\u001b[0m     \u001b[38;5;28;01mexcept\u001b[39;00m \u001b[38;5;167;01mEOFError\u001b[39;00m:\n\u001b[1;32m      7\u001b[0m         \u001b[38;5;28;01mbreak\u001b[39;00m\n",
      "\u001b[0;31mAttributeError\u001b[0m: Can't get attribute 'Result' on <module '__main__'>"
     ]
    }
   ],
   "source": [
    "objects = []\n",
    "with (open(\"/home/gkittles/DRIPP/results/test_results87_0.83_1.dat\", \"rb\")) as openfile:\n",
    "    while True:\n",
    "        try:\n",
    "            objects.append(pickle.load(openfile))\n",
    "        except EOFError:\n",
    "            break"
   ]
  },
  {
   "cell_type": "code",
   "execution_count": 5,
   "metadata": {},
   "outputs": [
    {
     "ename": "AttributeError",
     "evalue": "Can't get attribute 'Result' on <module '__main__'>",
     "output_type": "error",
     "traceback": [
      "\u001b[0;31m---------------------------------------------------------------------------\u001b[0m",
      "\u001b[0;31mAttributeError\u001b[0m                            Traceback (most recent call last)",
      "Cell \u001b[0;32mIn[5], line 2\u001b[0m\n\u001b[1;32m      1\u001b[0m open_file \u001b[38;5;241m=\u001b[39m \u001b[38;5;28mopen\u001b[39m(\u001b[38;5;124m\"\u001b[39m\u001b[38;5;124m/home/gkittles/DRIPP/results/test_results87_0.83_1.dat\u001b[39m\u001b[38;5;124m\"\u001b[39m, \u001b[38;5;124m\"\u001b[39m\u001b[38;5;124mrb\u001b[39m\u001b[38;5;124m\"\u001b[39m)\n\u001b[0;32m----> 2\u001b[0m \u001b[38;5;28mprint\u001b[39m(\u001b[43mpickle\u001b[49m\u001b[38;5;241;43m.\u001b[39;49m\u001b[43mload\u001b[49m\u001b[43m(\u001b[49m\u001b[43mopen_file\u001b[49m\u001b[43m)\u001b[49m)\n",
      "\u001b[0;31mAttributeError\u001b[0m: Can't get attribute 'Result' on <module '__main__'>"
     ]
    }
   ],
   "source": [
    "open_file = open(\"/home/gkittles/DRIPP/results/test_results87_0.83_1.dat\", \"rb\")\n",
    "print(pickle.load(open_file))"
   ]
  },
  {
   "cell_type": "code",
   "execution_count": null,
   "metadata": {},
   "outputs": [],
   "source": []
  }
 ],
 "metadata": {
  "kernelspec": {
   "display_name": "DRIPP_env",
   "language": "python",
   "name": "python3"
  },
  "language_info": {
   "codemirror_mode": {
    "name": "ipython",
    "version": 3
   },
   "file_extension": ".py",
   "mimetype": "text/x-python",
   "name": "python",
   "nbconvert_exporter": "python",
   "pygments_lexer": "ipython3",
   "version": "3.13.0"
  }
 },
 "nbformat": 4,
 "nbformat_minor": 2
}
